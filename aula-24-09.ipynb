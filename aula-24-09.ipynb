{
 "cells": [
  {
   "cell_type": "code",
   "execution_count": 3,
   "metadata": {},
   "outputs": [],
   "source": [
    "import pandas as pd"
   ]
  },
  {
   "cell_type": "code",
   "execution_count": 4,
   "metadata": {},
   "outputs": [],
   "source": [
    "a = pd.Series([3, 5, 6, 7, 9, 14, 16, 16, None, 27, 34, 50, 61])\n",
    "b = pd.Series([10, 9, 10, 11, 8, 11, 10, 12, None, 11, 10, 8, 10])\n",
    "c = pd.Series([0, 2, 3, 0, 4, 2, 0, 6, 2, 0, 4, 5, None])"
   ]
  },
  {
   "cell_type": "code",
   "execution_count": 15,
   "metadata": {},
   "outputs": [
    {
     "data": {
      "text/plain": [
       "0      3.0\n",
       "1      5.0\n",
       "2      6.0\n",
       "3      7.0\n",
       "4      9.0\n",
       "5     14.0\n",
       "6     16.0\n",
       "7     16.0\n",
       "8      NaN\n",
       "9     27.0\n",
       "10    34.0\n",
       "11    50.0\n",
       "12    61.0\n",
       "dtype: float64"
      ]
     },
     "execution_count": 15,
     "metadata": {},
     "output_type": "execute_result"
    }
   ],
   "source": [
    "a"
   ]
  },
  {
   "cell_type": "markdown",
   "metadata": {},
   "source": [
    "Removendo os valores faltantes do Dataset"
   ]
  },
  {
   "cell_type": "code",
   "execution_count": 9,
   "metadata": {},
   "outputs": [
    {
     "name": "stdout",
     "output_type": "stream",
     "text": [
      "Removendo os valores faltantes dos Datasets\n",
      "A ********\n",
      " 0      3.0\n",
      "1      5.0\n",
      "2      6.0\n",
      "3      7.0\n",
      "4      9.0\n",
      "5     14.0\n",
      "6     16.0\n",
      "7     16.0\n",
      "9     27.0\n",
      "10    34.0\n",
      "11    50.0\n",
      "12    61.0\n",
      "dtype: float64\n",
      "\n",
      "B ********\n",
      " 0     10.0\n",
      "1      9.0\n",
      "2     10.0\n",
      "3     11.0\n",
      "4      8.0\n",
      "5     11.0\n",
      "6     10.0\n",
      "7     12.0\n",
      "9     11.0\n",
      "10    10.0\n",
      "11     8.0\n",
      "12    10.0\n",
      "dtype: float64\n",
      "\n",
      "C ********\n",
      " 0     0.0\n",
      "1     2.0\n",
      "2     3.0\n",
      "3     0.0\n",
      "4     4.0\n",
      "5     2.0\n",
      "6     0.0\n",
      "7     6.0\n",
      "8     2.0\n",
      "9     0.0\n",
      "10    4.0\n",
      "11    5.0\n",
      "dtype: float64\n",
      "\n"
     ]
    }
   ],
   "source": [
    "print(\"Removendo os valores faltantes dos Datasets\")\n",
    "print(f\"A {'*' * 8}\\n {a.dropna()}\\n\")\n",
    "print(f\"B {'*' * 8}\\n {b.dropna()}\\n\")\n",
    "print(f\"C {'*' * 8}\\n {c.dropna()}\\n\")"
   ]
  },
  {
   "cell_type": "markdown",
   "metadata": {},
   "source": [
    "Preenchendo com a média"
   ]
  },
  {
   "cell_type": "code",
   "execution_count": 18,
   "metadata": {},
   "outputs": [
    {
     "name": "stdout",
     "output_type": "stream",
     "text": [
      "A ********\n",
      "\n",
      "Mediana de A: 15.0\n",
      "Valores ausentes: 0\n",
      "0      3.0\n",
      "1      5.0\n",
      "2      6.0\n",
      "3      7.0\n",
      "4      9.0\n",
      "5     14.0\n",
      "6     16.0\n",
      "7     16.0\n",
      "8     15.0\n",
      "9     27.0\n",
      "10    34.0\n",
      "11    50.0\n",
      "12    61.0\n",
      "dtype: float64\n"
     ]
    }
   ],
   "source": [
    "print(f\"A {'*' * 8}\\n\")\n",
    "\n",
    "# Extrair mediana\n",
    "a_median = a.median()\n",
    "\n",
    "print(f\"Mediana de A: {a_median}\")\n",
    "\n",
    "# Preencher a coluna\n",
    "filled_a_median = a.fillna(a_median)\n",
    "\n",
    "# Checando se restou algum valor ausente\n",
    "print(\"Valores ausentes:\", filled_a_median.isnull().sum())\n",
    "\n",
    "print(filled_a_median)"
   ]
  },
  {
   "cell_type": "code",
   "execution_count": null,
   "metadata": {},
   "outputs": [],
   "source": []
  }
 ],
 "metadata": {
  "kernelspec": {
   "display_name": "venv",
   "language": "python",
   "name": "python3"
  },
  "language_info": {
   "codemirror_mode": {
    "name": "ipython",
    "version": 3
   },
   "file_extension": ".py",
   "mimetype": "text/x-python",
   "name": "python",
   "nbconvert_exporter": "python",
   "pygments_lexer": "ipython3",
   "version": "3.10.12"
  }
 },
 "nbformat": 4,
 "nbformat_minor": 2
}
